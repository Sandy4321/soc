{
 "cells": [
  {
   "cell_type": "markdown",
   "metadata": {
    "deletable": true,
    "editable": true
   },
   "source": [
    "# Getting Started\n",
    "\n",
    "This notebook illustrates how to get started using PySOC.\n",
    "\n",
    "To install PySOC, in the command line run:\n",
    "\n",
    "```bash\n",
    "pip install git+https://github.com/codekansas/soc\n",
    "```\n",
    "\n",
    "The example below will illustrate how to use PySOC to visualize the top question-answer pairs in the subreddit [/r/AskReddit](https://www.reddit.com/r/AskReddit/).\n",
    "\n",
    "To download the appropriate data, use the command-line tool. This requires installing `[praw](https://praw.readthedocs.io/en/latest/)` and putting the right [credentials](https://praw.readthedocs.io/en/latest/getting_started/authentication.html#oauth) in the environment.\n",
    "\n",
    "```bash\n",
    ">>> pip install praw\n",
    ">>> export praw_client_id=<CLIENT_ID>\n",
    ">>> export praw_client_secret=<CLIENT_SECRET>\n",
    ">>> export praw_user_agent=<USER_AGENT>\n",
    "```\n",
    "\n",
    "To use the command-line interface, run\n",
    "\n",
    "```bash\n",
    ">>> pysoc ask_reddit download --help\n",
    "Usage: pysoc ask_reddit download [OPTIONS]\n",
    "\n",
    "Options:\n",
    "  --fname TEXT\n",
    "  --num_results INTEGER\n",
    "  --override TEXT\n",
    "  --num_comments INTEGER\n",
    "  --time_filter [hour|day|week|month|year|all]\n",
    "  --wait_time FLOAT\n",
    "  -h, --help                      Show this message and exit.\n",
    "```\n",
    "\n",
    "To download 100 results, with the top 5 comments from each result, run:\n",
    "\n",
    "```bash\n",
    ">>> pysoc ask_reddit download --num_results 100 --num_comments 5\n",
    "```"
   ]
  },
  {
   "cell_type": "code",
   "execution_count": 1,
   "metadata": {
    "collapsed": false
   },
   "outputs": [
    {
     "name": "stdout",
     "output_type": "stream",
     "text": [
      "Before:\n",
      "  input shape: (100,) -- output shape: (100, 1)\n",
      "\n",
      "After:\n",
      "  input batch shape: (100, 100) -- output batch shape: (100, 100, 1661)\n",
      "  input shape: (100,) -- output shape: (100, 1661)\n",
      "What bot accounts on reddit should people know about ? -- Every account on reddit is a bot except you .\n",
      "What bot accounts on reddit should people know about ? -- Every account on reddit is a bot except you .\n",
      "What bot accounts on reddit should people know about ? -- Every account on reddit is a bot except you .\n",
      "What bot accounts on reddit should people know about ? -- Every account on reddit is a bot except you .\n",
      "What bot accounts on reddit should people know about ? -- Every account on reddit is a bot except you .\n"
     ]
    }
   ],
   "source": [
    "from __future__ import print_function\n",
    "\n",
    "import numpy as np\n",
    "from soc.modules import AskReddit\n",
    "\n",
    "# Instantiate a new instance.\n",
    "ask_reddit = AskReddit(one_hot_input=False, one_hot_output=True)\n",
    "\n",
    "# Prints the expected shape before loading the dataset.\n",
    "print('Before:')\n",
    "(input_shape,), (output_shape,) = ask_reddit.shape\n",
    "print('  input shape:', input_shape, '--',\n",
    "      'output shape:', output_shape)\n",
    "\n",
    "# The shape will be different after loading the data,\n",
    "# because the character dictionaries have changed.\n",
    "print('\\nAfter:')\n",
    "(questions,), (answers,) = ask_reddit.train_data\n",
    "print('  input batch shape:', questions.shape, '--',\n",
    "      'output batch shape:', answers.shape)\n",
    "(input_shape,), (output_shape,) = ask_reddit.shape\n",
    "print('  input shape:', input_shape, '--',\n",
    "      'output shape:', output_shape)\n",
    "\n",
    "# Shows some samples from the data.\n",
    "question_strings = ask_reddit.decode(questions, argmax=False)\n",
    "answer_strings = ask_reddit.decode(answers, argmax=True)\n",
    "for i in range(5):\n",
    "    print(question_strings[i], '--', answer_strings[i])"
   ]
  },
  {
   "cell_type": "markdown",
   "metadata": {},
   "source": [
    "The example below shows a histogram of the words in the questions."
   ]
  },
  {
   "cell_type": "code",
   "execution_count": 2,
   "metadata": {
    "collapsed": false
   },
   "outputs": [
    {
     "data": {
      "image/png": "[encoded data removed]",
      "text/plain": [
       "<matplotlib.figure.Figure at 0x1079e2ed0>"
      ]
     },
     "metadata": {},
     "output_type": "display_data"
    }
   ],
   "source": [
    "%matplotlib inline\n",
    "import matplotlib.pyplot as plt\n",
    "\n",
    "question_idxs = [i for i in questions.reshape(-1) if i > 0]\n",
    "_ = plt.hist(question_idxs)"
   ]
  },
  {
   "cell_type": "markdown",
   "metadata": {},
   "source": [
    "The example below show how to use the model in a Keras model. This is a short proof-of-concept example, but could be run for a longer amount of time to try to get realistic-looking predictions."
   ]
  },
  {
   "cell_type": "code",
   "execution_count": null,
   "metadata": {
    "collapsed": false,
    "scrolled": false
   },
   "outputs": [],
   "source": [
    "import keras\n",
    "import numpy as np\n",
    "\n",
    "num_embed_dims = 32\n",
    "samples_per_epoch = 64\n",
    "nb_epoch = 5\n",
    "batch_size = 8\n",
    "\n",
    "input_var = keras.layers.Input(input_shape)\n",
    "x = keras.layers.Embedding(ask_reddit.num_chars, num_embed_dims)(input_var)\n",
    "x = keras.layers.LSTM(64)(x)\n",
    "x = keras.layers.RepeatVector(100)(x)\n",
    "x = keras.layers.LSTM(64, return_sequences=True)(x)\n",
    "x = keras.layers.TimeDistributed(keras.layers.Dense(ask_reddit.num_chars))(x)\n",
    "\n",
    "model = keras.models.Model([input_var], [x])\n",
    "model.compile(loss='categorical_crossentropy', optimizer='nadam')\n",
    "_ = model.fit_generator(ask_reddit.iterate_data(batch_size), samples_per_epoch, nb_epoch)\n",
    "\n",
    "# Prints predictions from the model.\n",
    "print('\\nPredictions:')\n",
    "pred_answers = model.predict([questions])\n",
    "question_strings = ask_reddit.decode(questions, argmax=False)\n",
    "answer_strings = ask_reddit.decode(pred_answers, argmax=True)\n",
    "for i in np.random.choice(len(question_strings), 5):\n",
    "    print(question_strings[i], '--', answer_strings[i])"
   ]
  }
 ],
 "metadata": {
  "kernelspec": {
   "display_name": "Python 2",
   "language": "python",
   "name": "python2"
  },
  "language_info": {
   "codemirror_mode": {
    "name": "ipython",
    "version": 2
   },
   "file_extension": ".py",
   "mimetype": "text/x-python",
   "name": "python",
   "nbconvert_exporter": "python",
   "pygments_lexer": "ipython2",
   "version": "2.7.10"
  }
 },
 "nbformat": 4,
 "nbformat_minor": 2
}
